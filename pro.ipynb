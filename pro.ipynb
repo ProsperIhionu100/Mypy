{
 "cells": [
  {
   "cell_type": "code",
   "execution_count": 31,
   "metadata": {},
   "outputs": [
    {
     "name": "stdout",
     "output_type": "stream",
     "text": [
      "[['39772'], ['34578'], ['22455']]\n"
     ]
    }
   ],
   "source": [
    "import re\n",
    "my_list =[]\n",
    "f_hand =open(\"mbox.txt\", \"r\")\n",
    "lines =f_hand.readlines()\n",
    "for line in lines:\n",
    "   line1=re.findall(\"[0-9]+\",line)\n",
    "   my_list.append(line1)\n",
    "print(my_list)   \n",
    "#count =0\n",
    "# for line in f_hand.readlines():\n",
    "#    line =line.split()\n",
    "#    search =re.findall(\"[0-9]+\",line)\n",
    "#    count +=search\n",
    "# print(count)\n",
    "   \n",
    "   \n"
   ]
  },
  {
   "cell_type": "code",
   "execution_count": 6,
   "metadata": {},
   "outputs": [
    {
     "data": {
      "text/plain": [
       "['235']"
      ]
     },
     "execution_count": 6,
     "metadata": {},
     "output_type": "execute_result"
    }
   ],
   "source": [
    "import re \n",
    "\n",
    "text = \"name:235\"\n",
    "re.findall(\"\\d{3}\", text)\n"
   ]
  },
  {
   "cell_type": "code",
   "execution_count": 36,
   "metadata": {},
   "outputs": [
    {
     "name": "stdout",
     "output_type": "stream",
     "text": [
      "3\n",
      "2\n",
      "1\n"
     ]
    }
   ],
   "source": [
    "i =3\n",
    "\n",
    "while i >=1:\n",
    "    print(i)\n",
    "    i-=1"
   ]
  },
  {
   "cell_type": "code",
   "execution_count": 9,
   "metadata": {},
   "outputs": [
    {
     "name": "stdout",
     "output_type": "stream",
     "text": [
      "you guessed below try again\n",
      "you won\n"
     ]
    }
   ],
   "source": [
    "\n",
    "def guess_inp():\n",
    "   inp=int(input(\"enter a number\"))\n",
    "   return inp\n",
    "\n",
    "\n",
    "guess = 50\n",
    "guess_num = 3\n",
    "\n",
    "def judge_guess():\n",
    "    guess_count = 1\n",
    "    while guess_count <= guess_num:    \n",
    "        guess1=guess_inp()\n",
    "        if guess ==guess1:\n",
    "            print(\"you won\")\n",
    "            break\n",
    "        elif guess1 > guess:\n",
    "            print(\"you guessed above Try again\")\n",
    "        elif guess1 < guess:\n",
    "            print(\"you guessed below try again\")\n",
    "        guess_count +=1\n",
    "        \n",
    "judge_guess()\n",
    "        \n",
    "        "
   ]
  },
  {
   "cell_type": "code",
   "execution_count": 5,
   "metadata": {},
   "outputs": [
    {
     "name": "stdout",
     "output_type": "stream",
     "text": [
      "you guessed below try again\n",
      "you guessed below try again\n",
      "you guessed below try again\n"
     ]
    }
   ],
   "source": [
    "\n",
    "guess_count = 1\n",
    "guess = 50\n",
    "guess_num = 3\n",
    "while guess_count <= guess_num:  \n",
    "    guess1 = int(input(\"Enter a number\"))  \n",
    "    if guess ==guess1:\n",
    "        print(\"you won\")\n",
    "        break\n",
    "    elif guess1 > guess:\n",
    "        print(\"you guessed above Try again\")\n",
    "    elif guess1 < guess:\n",
    "        print(\"you guessed below try again\")\n",
    "    guess_count +=1"
   ]
  },
  {
   "cell_type": "code",
   "execution_count": null,
   "metadata": {},
   "outputs": [],
   "source": [
    "import urllib \n",
    "\n",
    "fhand =urllib.urlopen('http://www.py4inf.com/code/romeo.txt')\n",
    "for line in fhand:\n",
    "    print(line.strip())"
   ]
  },
  {
   "cell_type": "code",
   "execution_count": null,
   "metadata": {},
   "outputs": [],
   "source": [
    "print(\"Hello Word\")"
   ]
  }
 ],
 "metadata": {
  "kernelspec": {
   "display_name": "Python 3",
   "language": "python",
   "name": "python3"
  },
  "language_info": {
   "codemirror_mode": {
    "name": "ipython",
    "version": 3
   },
   "file_extension": ".py",
   "mimetype": "text/x-python",
   "name": "python",
   "nbconvert_exporter": "python",
   "pygments_lexer": "ipython3",
   "version": "3.10.6"
  },
  "orig_nbformat": 4
 },
 "nbformat": 4,
 "nbformat_minor": 2
}
